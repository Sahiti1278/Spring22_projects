{
 "cells": [
  {
   "cell_type": "code",
   "execution_count": null,
   "metadata": {},
   "outputs": [],
   "source": [
    "#name: Sahiti Sri Upputuri\n",
    "#prohject: Final"
   ]
  },
  {
   "cell_type": "code",
   "execution_count": null,
   "metadata": {},
   "outputs": [],
   "source": [
    "#part1: print the list of all employees"
   ]
  },
  {
   "cell_type": "code",
   "execution_count": 1,
   "metadata": {},
   "outputs": [
    {
     "name": "stdout",
     "output_type": "stream",
     "text": [
      "Make: Honda; Model: Civic; Year of Manufacture: 2014;  Mileage: 50000\n",
      "The mileage of this vehicle is: 50000\n",
      "The year of manufacture of this vehicle is: 2012\n"
     ]
    }
   ],
   "source": [
    "class Vehicle:\n",
    "    def __init__(self, vmake, vmodel, vyear, vmil):\n",
    "        self.setvehiclemake(vmake)\n",
    "        self.setvehiclemodel(vmodel)\n",
    "        self.setvehicleyear(vyear)\n",
    "        self.setvehiclemileage(vmil)\n",
    "        \n",
    "    #set functions\n",
    "    def setvehiclemake(self, vmake):\n",
    "         self.vehiclemake = vmake\n",
    "    def setvehiclemodel(self, vmodel):\n",
    "         self.vehiclemodel = vmodel\n",
    "    def setvehicleyear(self, vyear):\n",
    "         self.vehicleyear = vyear\n",
    "    def setvehiclemileage(self, vmil):\n",
    "         self.vehiclemileage = vmil\n",
    "            \n",
    "    #get functions        \n",
    "    def getvehiclemake(self):\n",
    "         return self.vehiclemake\n",
    "    def getvehiclemodel(self):\n",
    "         return self.vehiclemodel\n",
    "    def getvehicleyear(self):\n",
    "         return self.vehicleyear\n",
    "    def getvehiclemil(self):\n",
    "         return self.vehiclemileage\n",
    "    def printvehicledetails(self):\n",
    "        return \"Make: \" + self.getvehiclemake() + \"; Model: \" + self.getvehiclemodel() + \"; Year of Manufacture: \" + str(self.getvehicleyear()) + \";  Mileage: \" + str(self.getvehiclemil()) \n",
    "    \n",
    "    def __str__(self):\n",
    "        return \"Make: \" + self.getvehiclemake() + \"; Model: \" + self.getvehiclemodel() + \"; Year of Manufacture: \" + str(self.getvehicleyear()) + \";  Mileage: \" + str(self.getvehiclemil()) \n",
    "\n",
    "    \n",
    "#(self.vehiclemake, self.vehiclemodel, self.vehicleyear, self.vehiclemileage)\n",
    "#x = Vehicle(\"Honda\", \"Civic\", 2014, 50000)\n",
    "#x.printvehicledetails()\n",
    "vehicle1=Vehicle(\"Honda\",\"Civic\",2014,50000)\n",
    "print(vehicle1)\n",
    "print(\"The mileage of this vehicle is:\", vehicle1.getvehiclemil())\n",
    "vehicle1.setvehicleyear(2012)\n",
    "print(\"The year of manufacture of this vehicle is:\", vehicle1.getvehicleyear())"
   ]
  },
  {
   "cell_type": "code",
   "execution_count": 2,
   "metadata": {},
   "outputs": [
    {
     "name": "stdout",
     "output_type": "stream",
     "text": [
      "Employee Name: Amy, Employee Address: 100 W Campbell Road, Richardson, Texas, 75080\n",
      "Make: Honda; Model: Civic; Year of Manufacture: 2012;  Mileage: 50000\n",
      "Amy lives at 100 W Campbell Road, Richardson, Texas, 75080.\n",
      "Amy owns a Honda Civic vehicle.\n",
      "Amy lives at 800 E Campbell Road, Richardson, Texas, 75080.\n"
     ]
    }
   ],
   "source": [
    "class Employee(Vehicle):\n",
    "    def __init__(self, ename, eaddress, evehicle):\n",
    "        self.setemployeename(ename)\n",
    "        self.setemployeeaddress(eaddress)\n",
    "        self.setemployeevehicle(evehicle)\n",
    "        \n",
    "    #set functions\n",
    "    def setemployeename(self, ename):\n",
    "        self.ename = ename\n",
    "    def setemployeeaddress(self, eaddress):\n",
    "        self.eaddress =  eaddress\n",
    "    def setemployeevehicle(self, evehicle):\n",
    "        self.evehicle = evehicle\n",
    "    def set_vehicle(self, veh):\n",
    "        self.evehicle = evehicle\n",
    "    \n",
    "    #get functions        \n",
    "    def getemployeename(self):\n",
    "        return self.ename\n",
    "    def getemployeeaddress(self):\n",
    "        return self.eaddress\n",
    "    def get_vehicle(self):\n",
    "        return self.evehicle\n",
    "    def getemployeevehicle(self):\n",
    "        return self.evehicle.printvehicledetails()\n",
    "    def getemployeevehicle_mil(self):\n",
    "        return self.evehicle.getvehiclemil()\n",
    "    def getemployeevehicle_year(self):\n",
    "        return self.evehicle.getvehicleyear()\n",
    "\n",
    "        \n",
    "    def __str__(self):\n",
    "        return \"Employee Name: \" + self.getemployeename() + \", Employee Address: \" + self.getemployeeaddress() + \"\\n\" + self.evehicle.__str__()  \n",
    "    \n",
    "emp1=Employee(\"Amy\", \"100 W Campbell Road, Richardson, Texas, 75080\",vehicle1)\n",
    "print(emp1)\n",
    "print(\"{0} lives at {1}.\".format(emp1.getemployeename(),emp1.getemployeeaddress()))\n",
    "print(\"{0} owns a {1} {2} vehicle.\".format(emp1.getemployeename(),emp1.get_vehicle().getvehiclemake(),emp1.get_vehicle().getvehiclemodel()))\n",
    "emp1.setemployeeaddress(\"800 E Campbell Road, Richardson, Texas, 75080\")\n",
    "print(\"{0} lives at {1}.\".format(emp1.getemployeename(),emp1.getemployeeaddress()))"
   ]
  },
  {
   "cell_type": "code",
   "execution_count": 3,
   "metadata": {},
   "outputs": [
    {
     "name": "stdout",
     "output_type": "stream",
     "text": [
      "Details of this Full-time employee are: \n",
      "Employee Name: Amy; Employee Address: 100 W Campbell Road, Richardson, Texas, 75080\n",
      "Make: Honda; Model: Civic; Year of Manufacture: 2012;  Mileage: 50000\n",
      "Salary: 40000.00\n",
      "Amy has an annual salary of $40000.00.\n",
      "Amy has a weekly compensation of $630.77.\n",
      "Amy has a weekly reimbursement of $211.54.\n",
      "Amy has an annual salary of $50000.00.\n"
     ]
    }
   ],
   "source": [
    "class FullTimeEmployee(Employee):\n",
    "    def __init__(self, ename, eaddress, evehicle, ftsalary):\n",
    "        Employee.__init__(self, ename, eaddress, evehicle)\n",
    "        self.setftsalary(ftsalary)\n",
    "    #set functions\n",
    "    def setftsalary(self, ftsalary):\n",
    "        self.ftsalary = ftsalary\n",
    "    #get functions\n",
    "    def getftsalary(self):\n",
    "        return \"{:.2f}\".format(self.ftsalary)\n",
    "    \n",
    "    def compute_compensation(self):\n",
    "        if self.ftsalary <=45000:\n",
    "            tax = 0.18*self.ftsalary\n",
    "        elif self.ftsalary >=45000 and self.ftsalary <=82000:\n",
    "            tax = 0.18*45000 + 0.28*(self.ftsalary - 45000) #upto 45k 18% and then 28%\n",
    "        else: \n",
    "            tax = 0.18*45000 + 0.28*(82000-45000)+0.33*(self.ftsalary - 82000)\n",
    "        return (self.ftsalary - tax)/52 #weekly compensation with 52 weeks\n",
    "    \n",
    "    def compute_reimbursement(self, annualexp):\n",
    "        if annualexp<=10000:\n",
    "            return annualexp/52 #for weekly\n",
    "        else: \n",
    "            return ((10000+((annualexp-10000)*0.5))/52) #for weekly one\n",
    "        \n",
    "    def getemployeedetails(self):\n",
    "        #super().__str__(self)\n",
    "        return \"Details of this Full-time employee are: \\n\"+ \"Employee Name: \" + self.getemployeename() +\"; Employee Address: \" + self.getemployeeaddress() + \"\\n\" + self.getemployeevehicle() + \"\\n\" + \"Salary: \" + self.getftsalary()\n",
    "    def __str__(self):\n",
    "        super().__str__()\n",
    "        return \"Details of this Full-time employee are: \\n\"+ \"Employee Name: \" + self.getemployeename() +\"; Employee Address: \" + self.getemployeeaddress() + \"\\n\" + self.getemployeevehicle() + \"\\n\" + \"Salary: \" + self.getftsalary()\n",
    "emp2=FullTimeEmployee(\"Amy\", \"100 W Campbell Road, Richardson, Texas, 75080\", vehicle1, 40000)\n",
    "print(emp2)\n",
    "print(\"{0} has an annual salary of ${1}.\".format(emp2.getemployeename(),emp2.getftsalary()))\n",
    "print(\"{0} has a weekly compensation of ${1:0.2f}.\".format(emp2.getemployeename(),emp2.compute_compensation()))\n",
    "print(\"{0} has a weekly reimbursement of ${1:0.2f}.\".format(emp2.getemployeename(),emp2.compute_reimbursement(12000)))\n",
    "emp2.setftsalary(50000)\n",
    "print(\"{0} has an annual salary of ${1}.\".format(emp2.getemployeename(),emp2.getftsalary()))"
   ]
  },
  {
   "cell_type": "code",
   "execution_count": 4,
   "metadata": {},
   "outputs": [
    {
     "name": "stdout",
     "output_type": "stream",
     "text": [
      "Details of this Hourly employee are: \n",
      "Employee Name: Grace; Employee Address: 400 W Campbell Road, Richardson, Texas, 75080\n",
      "Make: Honda; Model: Civic; Year of Manufacture: 2012;  Mileage: 50000\n",
      "Hours Worked: 50; Hourly Rate: 20\n",
      "Grace works 50 hours per week at an hourly rate of $20.\n",
      "Grace has a weekly compensation of $1160.00.\n",
      "Grace has a weekly reimbursement of $100.00.\n",
      "Grace works 50 hours per week at an hourly rate of $22.\n"
     ]
    }
   ],
   "source": [
    "class HourlyEmployee(Employee):\n",
    "    def __init__(self, ename, eaddress, evehicle, workedhours, rateperhour):\n",
    "        self.setemployeename(ename)\n",
    "        self.setemployeeaddress(eaddress)\n",
    "        self.setemployeevehicle(evehicle)\n",
    "        self.setworkedhours(workedhours)\n",
    "        self.setrateperhour(rateperhour)\n",
    "        \n",
    "    #set functions\n",
    "    def setworkedhours(self, workedhours):\n",
    "        self.workedhours = workedhours\n",
    "    def setrateperhour(self, rateperhour):\n",
    "        self.rateperhour = rateperhour\n",
    "        \n",
    "    #get functions\n",
    "    def getworkedhours(self):\n",
    "        return self.workedhours\n",
    "    def getrateperhour(self):\n",
    "        return self.rateperhour\n",
    "    \n",
    "    def compute_compensation(self):\n",
    "        if self.workedhours <=40:\n",
    "            return self.workedhours*self.rateperhour #per week compensation\n",
    "        else:\n",
    "            return self.rateperhour*40 + (self.workedhours - 40)*1.8*self.rateperhour #weekly compensation over time\n",
    "    def compute_reimbursement(self, weeklyexpense):\n",
    "        if weeklyexpense<=100:\n",
    "            return weeklyexpense\n",
    "        else: \n",
    "            return 100 #fixed value of 100$\n",
    "        \n",
    "    def getemployeedetails(self):\n",
    "        #super().__str__(self)\n",
    "        return \"Details of this Hourly employee are: \\n\"+ \"Employee Name: \" + self.getemployeename() +\"; Employee Address: \" + self.getemployeeaddress() + \"\\n\" + self.getemployeevehicle() + \"\\n\" + \"Hours Worked: \" + str(self.getworkedhours())  + \"; Hourly Rate: \" + str(self.getrateperhour())\n",
    "    def __str__(self):\n",
    "        super().__str__()\n",
    "        return \"Details of this Hourly employee are: \\n\"+ \"Employee Name: \" + self.getemployeename() +\"; Employee Address: \" + self.getemployeeaddress() + \"\\n\" + self.getemployeevehicle() + \"\\n\" + \"Hours Worked: \" + str(self.getworkedhours())  + \"; Hourly Rate: \" + str(self.getrateperhour())\n",
    "emp3=HourlyEmployee(\"Grace\", \"400 W Campbell Road, Richardson, Texas, 75080\", vehicle1,50,20)\n",
    "print(emp3)\n",
    "print(\"{0} works {1} hours per week at an hourly rate of ${2}.\".format(emp3.getemployeename(),emp3.getworkedhours(),emp3.getrateperhour()))\n",
    "print(\"{0} has a weekly compensation of ${1:0.2f}.\".format(emp3.getemployeename(),emp3.compute_compensation()))\n",
    "print(\"{0} has a weekly reimbursement of ${1:0.2f}.\".format(emp3.getemployeename(),emp3.compute_reimbursement(120)))\n",
    "emp3.setrateperhour(22)\n",
    "print(\"{0} works {1} hours per week at an hourly rate of ${2}.\".format(emp3.getemployeename(),emp3.getworkedhours(),emp3.getrateperhour()))  "
   ]
  },
  {
   "cell_type": "code",
   "execution_count": 5,
   "metadata": {
    "scrolled": true
   },
   "outputs": [
    {
     "name": "stdout",
     "output_type": "stream",
     "text": [
      "Details of this Consultant employee are: \n",
      "Employee Name: Michael; Employee Address: 700 W Campbell Road, Richardson, Texas, 75080\n",
      "Make: Honda; Model: Civic; Year of Manufacture: 2012;  Mileage: 50000\n",
      "Hours Worked: 40; Project Type: 2\n",
      "Michael works 40 hours per week for type 2 project.\n",
      "Michael has a weekly compensation of $2800.00.\n",
      "Michael has a weekly reimbursement of $270.00.\n",
      "Michael works 35 hours per week for type 2 project.\n"
     ]
    }
   ],
   "source": [
    "class Consultant(Employee):\n",
    "    def __init__(self, ename, eaddress, evehicle, workedhours, projecttype):\n",
    "        self.setemployeename(ename)\n",
    "        self.setemployeeaddress(eaddress)\n",
    "        self.setemployeevehicle(evehicle)\n",
    "        self.setworkedhours(workedhours)\n",
    "        self.setprojecttype(projecttype)\n",
    "        \n",
    "    #set functions\n",
    "    def setworkedhours(self, workedhours):\n",
    "        self.workedhours = workedhours\n",
    "    def setprojecttype(self, projecttype):\n",
    "        self.projecttype = projecttype\n",
    "        \n",
    "    #get functions\n",
    "    def getworkedhours(self):\n",
    "        return self.workedhours\n",
    "    def getprojecttype(self):\n",
    "        return self.projecttype\n",
    "    \n",
    "    def compute_compensation(self):\n",
    "        if self.projecttype == 1:\n",
    "            return self.workedhours*55 #per week compensation for project1\n",
    "        elif self.projecttype == 2:\n",
    "            return self.workedhours*70 #per week compensation for project2\n",
    "        else:\n",
    "            return self.workedhours*85 #per week compensation for project3\n",
    "        \n",
    "    def compute_reimbursement(self, weeklyexp):\n",
    "        if self.projecttype == 1:\n",
    "            return weeklyexp\n",
    "        elif self.projecttype == 2:\n",
    "            return (weeklyexp*0.9)\n",
    "        else:\n",
    "            return (weeklyexp*0.8)\n",
    "        \n",
    "    def getemployeedetails(self):\n",
    "        #super.__str__()\n",
    "        return \"Details of this Consultant employee are: \\n\"+ \"Employee Name: \" + self.getemployeename() +\"; Employee Address: \" + self.getemployeeaddress() + \"\\n\" + self.getemployeevehicle() + \"\\n\" + \"Hours Worked: \" + str(self.getworkedhours()) + \"; Project Type: \" + str(self.getprojecttype())\n",
    "    def __str__(self):\n",
    "        super.__str__(self)\n",
    "        return \"Details of this Consultant employee are: \\n\"+ \"Employee Name: \" + self.getemployeename() +\"; Employee Address: \" + self.getemployeeaddress() + \"\\n\" + self.getemployeevehicle() + \"\\n\" + \"Hours Worked: \" + str(self.getworkedhours()) + \"; Project Type: \" + str(self.getprojecttype())\n",
    "emp4=Consultant(\"Michael\", \"700 W Campbell Road, Richardson, Texas, 75080\",vehicle1,40,2)\n",
    "print(emp4)\n",
    "print(\"{0} works {1} hours per week for type {2} project.\".format(emp4.getemployeename(),emp4.getworkedhours(),emp4.getprojecttype()))\n",
    "print(\"{0} has a weekly compensation of ${1:0.2f}.\".format(emp4.getemployeename(),emp4.compute_compensation()))\n",
    "print(\"{0} has a weekly reimbursement of ${1:0.2f}.\".format(emp4.getemployeename(),emp4.compute_reimbursement(300)))\n",
    "emp4.setworkedhours(35)\n",
    "print(\"{0} works {1} hours per week for type {2} project.\".format(emp4.getemployeename(),emp4.getworkedhours(),emp4.getprojecttype()))\n",
    " "
   ]
  },
  {
   "cell_type": "code",
   "execution_count": 6,
   "metadata": {},
   "outputs": [],
   "source": [
    "employees_list = []\n",
    "\n",
    "vehicle1 = Vehicle(\"Honda\", \"Civic\", 2014, 50000)\n",
    "ft1 = FullTimeEmployee(\"Amy\", \"100 W CampbellRoad, Richardson, Texas, 75080\", vehicle1, 40000)\n",
    "employees_list.append(ft1)\n",
    "\n",
    "vehicle2 = Vehicle(\"Toyota\", \"Camry\", 2010, 60000)\n",
    "ft2 = FullTimeEmployee(\"Bob\", \"200 W CampbellRoad, Richardson, Texas, 75080\", vehicle2, 80000)\n",
    "employees_list.append(ft2)\n",
    "\n",
    "vehicle3 = Vehicle(\"BMW\", \"X3\", 2016, 30000)\n",
    "ft3 = FullTimeEmployee(\"Evan\", \"300 W CampbellRoad, Richardson, Texas, 75080\", vehicle3, 120000)\n",
    "employees_list.append(ft3)\n",
    "\n",
    "vehicle4 = Vehicle(\"Kia\", \"Rio\", 2005, 150000)\n",
    "hr1 = HourlyEmployee(\"Grace\", \"400 W CampbellRoad, Richardson, Texas, 75080\", vehicle4, 50, 20)\n",
    "employees_list.append(hr1)\n",
    "    \n",
    "vehicle5 = Vehicle(\"Mazda\", \"Mazda3\", 2010, 80000)\n",
    "hr2 = HourlyEmployee(\"James\", \"500 W CampbellRoad, Richardson, Texas, 75080\", vehicle5, 30, 25)\n",
    "employees_list.append(hr2)\n",
    "\n",
    "vehicle6 = Vehicle(\"Nissan\", \"Sentra\", 2005, 160000)\n",
    "hr3 = HourlyEmployee(\"Luna\", \"600 W CampbellRoad, Richardson, Texas, 75080\", vehicle6, 20, 15)\n",
    "employees_list.append(hr3)\n",
    "\n",
    "vehicle7 = Vehicle(\"Ford\", \"Ranger\", 2011, 80000)\n",
    "ct1 = Consultant(\"Michael\", \"700 W CampbellRoad, Richardson, Texas, 75080\", vehicle7, 40, 1)\n",
    "employees_list.append(ct1)\n",
    "\n",
    "vehicle8 = Vehicle(\"Mercedes-Benz\", \"GLE350\", 2018, 30000)\n",
    "ct2 = Consultant(\"Tom\", \"800 W CampbellRoad, Richardson, Texas, 75080\", vehicle8, 50, 2)\n",
    "employees_list.append(ct2)\n",
    "\n",
    "vehicle9 = Vehicle(\"Tesla\", \"Model3\", 2018, 15000)\n",
    "ct3 = Consultant(\"Zoey\", \"900 W CampbellRoad, Richardson, Texas, 75080\", vehicle9, 30, 3)\n",
    "employees_list.append(ct3)\n"
   ]
  },
  {
   "cell_type": "code",
   "execution_count": 7,
   "metadata": {},
   "outputs": [
    {
     "name": "stdout",
     "output_type": "stream",
     "text": [
      "Details of this Full-time employee are: \n",
      "Employee Name: Amy; Employee Address: 100 W CampbellRoad, Richardson, Texas, 75080\n",
      "Make: Honda; Model: Civic; Year of Manufacture: 2014;  Mileage: 50000\n",
      "Salary: 40000.00\n",
      "\n",
      "\n",
      "Details of this Full-time employee are: \n",
      "Employee Name: Bob; Employee Address: 200 W CampbellRoad, Richardson, Texas, 75080\n",
      "Make: Toyota; Model: Camry; Year of Manufacture: 2010;  Mileage: 60000\n",
      "Salary: 80000.00\n",
      "\n",
      "\n",
      "Details of this Full-time employee are: \n",
      "Employee Name: Evan; Employee Address: 300 W CampbellRoad, Richardson, Texas, 75080\n",
      "Make: BMW; Model: X3; Year of Manufacture: 2016;  Mileage: 30000\n",
      "Salary: 120000.00\n",
      "\n",
      "\n",
      "Details of this Hourly employee are: \n",
      "Employee Name: Grace; Employee Address: 400 W CampbellRoad, Richardson, Texas, 75080\n",
      "Make: Kia; Model: Rio; Year of Manufacture: 2005;  Mileage: 150000\n",
      "Hours Worked: 50; Hourly Rate: 20\n",
      "\n",
      "\n",
      "Details of this Hourly employee are: \n",
      "Employee Name: James; Employee Address: 500 W CampbellRoad, Richardson, Texas, 75080\n",
      "Make: Mazda; Model: Mazda3; Year of Manufacture: 2010;  Mileage: 80000\n",
      "Hours Worked: 30; Hourly Rate: 25\n",
      "\n",
      "\n",
      "Details of this Hourly employee are: \n",
      "Employee Name: Luna; Employee Address: 600 W CampbellRoad, Richardson, Texas, 75080\n",
      "Make: Nissan; Model: Sentra; Year of Manufacture: 2005;  Mileage: 160000\n",
      "Hours Worked: 20; Hourly Rate: 15\n",
      "\n",
      "\n",
      "Details of this Consultant employee are: \n",
      "Employee Name: Michael; Employee Address: 700 W CampbellRoad, Richardson, Texas, 75080\n",
      "Make: Ford; Model: Ranger; Year of Manufacture: 2011;  Mileage: 80000\n",
      "Hours Worked: 40; Project Type: 1\n",
      "\n",
      "\n",
      "Details of this Consultant employee are: \n",
      "Employee Name: Tom; Employee Address: 800 W CampbellRoad, Richardson, Texas, 75080\n",
      "Make: Mercedes-Benz; Model: GLE350; Year of Manufacture: 2018;  Mileage: 30000\n",
      "Hours Worked: 50; Project Type: 2\n",
      "\n",
      "\n",
      "Details of this Consultant employee are: \n",
      "Employee Name: Zoey; Employee Address: 900 W CampbellRoad, Richardson, Texas, 75080\n",
      "Make: Tesla; Model: Model3; Year of Manufacture: 2018;  Mileage: 15000\n",
      "Hours Worked: 30; Project Type: 3\n",
      "\n",
      "\n"
     ]
    }
   ],
   "source": [
    "n = len(employees_list)\n",
    "for i in range(n):\n",
    "    e_current = employees_list[i]\n",
    "    print(e_current.getemployeedetails())\n",
    "    print(\"\\n\")"
   ]
  },
  {
   "cell_type": "code",
   "execution_count": 8,
   "metadata": {},
   "outputs": [
    {
     "name": "stdout",
     "output_type": "stream",
     "text": [
      "Details of this Management are: \n",
      "Employee Name: Jane; Employee Address: 1000 W Campbell Road, Richardson, Texas, 75080\n",
      "Make: Honda; Model: Civic; Year of Manufacture: 2014;  Mileage: 50000\n",
      "Salary: 120000.00; Hours Worked: 10; Project Type: 3\n",
      "\n",
      "\n",
      "Jane has an annual salary of $120000.00.\n",
      "Jane works 10 hours per week for type 3 project.\n",
      "Jane has a weekly compensation of $2561.54.\n",
      "Jane has a weekly reimbursement of $393.85.\n"
     ]
    }
   ],
   "source": [
    "#create management class from fT and consultant\n",
    "class Management(FullTimeEmployee, Consultant):\n",
    "    def __init__(self, name, address, vehicle, salary, hoursworked, project_type):\n",
    "        #print('here salary is',salary)\n",
    "        FullTimeEmployee.__init__(self, name, address, vehicle, salary)\n",
    "        Consultant.__init__(self, name, address, vehicle, hoursworked, project_type)\n",
    "    def compute_compensation(self):\n",
    "        return FullTimeEmployee.compute_compensation(self)+Consultant.compute_compensation(self)\n",
    "    def compute_reimbursement(self, annualexp, weeklyexp):\n",
    "        return FullTimeEmployee.compute_reimbursement(self, annualexp)+Consultant.compute_reimbursement(self,weeklyexp)\n",
    "    def __str__(self):\n",
    "        return \"Details of this Management are: \\n\"+\"Employee Name: \"+(self.getemployeename())+\"; Employee Address: \"+(self.getemployeeaddress())+\"\\n\"+str(self.getemployeevehicle())+\"\\nSalary: \" +str(self.getftsalary())+ \"; Hours Worked: \"+str(self.getworkedhours())+\"; Project Type: \"+str(self.getprojecttype())\n",
    "emp5=Management(\"Jane\", \"1000 W Campbell Road, Richardson, Texas, 75080\",vehicle1,120000,10,3)\n",
    "print(emp5)\n",
    "print(\"\\n\")\n",
    "print(\"{0} has an annual salary of ${1}.\".format(emp5.getemployeename(),emp5.getftsalary()))\n",
    "print(\"{0} works {1} hours per week for type {2} project.\".format(emp5.getemployeename(),emp5.getworkedhours(),emp5.getprojecttype()))\n",
    "print(\"{0} has a weekly compensation of ${1:0.2f}.\".format(emp5.getemployeename(),emp5.compute_compensation()))\n",
    "print(\"{0} has a weekly reimbursement of ${1:0.2f}.\".format(emp5.getemployeename(),emp5.compute_reimbursement(8000,300)))       "
   ]
  },
  {
   "cell_type": "code",
   "execution_count": 78,
   "metadata": {},
   "outputs": [
    {
     "name": "stdout",
     "output_type": "stream",
     "text": [
      "Enter the employee nameBob\n",
      "Enter employee address350 E Campbell Road, Richardson, Texas, 75080\n",
      "Bob lives at 350 E Campbell Road, Richardson, Texas, 75080.\n"
     ]
    }
   ],
   "source": [
    "def get_employee_input():\n",
    "    ename=input('Enter the employee name')\n",
    "    eaddress=input('Enter employee address')\n",
    "    return ename,eaddress\n",
    "name, address=get_employee_input()\n",
    "print(\"{0} lives at {1}.\".format(name,address))"
   ]
  },
  {
   "cell_type": "code",
   "execution_count": null,
   "metadata": {},
   "outputs": [],
   "source": [
    "#Step2: use the empdata.dat file to read and write"
   ]
  },
  {
   "cell_type": "code",
   "execution_count": 79,
   "metadata": {},
   "outputs": [
    {
     "name": "stdout",
     "output_type": "stream",
     "text": [
      "Enter vehicle make:Ford\n",
      "Enter vehicle model:Ranger\n",
      "Enter vehicle year of manufacture(yyyy):2021\n",
      "Please enter an integer value for year in the format of yyyy between 1900 and 2020.\n",
      "Enter vehicle year of manufacture(yyyy):2011\n",
      "enter vehicle milage value:80000\n",
      "The vehicle entered is a Ford Ranger made in 2011 with 80000 mileage curently.\n"
     ]
    }
   ],
   "source": [
    "def get_vehicle_input():\n",
    "    vehical_make =  input(\"Enter vehicle make:\")\n",
    "    vehicle_model = input(\"Enter vehicle model:\")\n",
    "    vehicle_year = int(input(\"Enter vehicle year of manufacture(yyyy):\")) #integer name like 2012\n",
    "    if vehicle_year<1900 or vehicle_year>2020:\n",
    "        print('Please enter an integer value for year in the format of yyyy between 1900 and 2020.')\n",
    "        vehicle_year = int(input(\"Enter vehicle year of manufacture(yyyy):\"))\n",
    "    vehicle_mil = int(input(\"enter vehicle milage value:\")) #interger values\n",
    "    return (vehical_make, vehicle_model, vehicle_year, vehicle_mil)\n",
    "\n",
    "#print('', get_vehicle_input())000\n",
    "vehiclemake, vehiclemodel, vehicleyear, vehiclemileage = get_vehicle_input()  \n",
    "print(\"The vehicle entered is a {0} {1} made in {2} with {3} mileage curently.\".format(vehiclemake, vehiclemodel, vehicleyear, vehiclemileage))"
   ]
  },
  {
   "cell_type": "code",
   "execution_count": 80,
   "metadata": {},
   "outputs": [
    {
     "name": "stdout",
     "output_type": "stream",
     "text": [
      "Enter the salary of full-time employee:80000\n",
      "The annual salary entered is 80000.00\n"
     ]
    }
   ],
   "source": [
    "def get_ft_employee_input():\n",
    "    salary = float(input(\"Enter the salary of full-time employee:\"))\n",
    "    return salary\n",
    "#print('', get_ft_employee_input())\n",
    "salary=get_ft_employee_input()\n",
    "print(\"The annual salary entered is {0:0.2f}\".format(salary))"
   ]
  },
  {
   "cell_type": "code",
   "execution_count": 81,
   "metadata": {},
   "outputs": [
    {
     "name": "stdout",
     "output_type": "stream",
     "text": [
      "Enter the worked hours of hourly employee:30\n",
      "Enter the hourly rate of worked hours of hourly employee:20\n",
      "This hourly employee works 30 hours per week at an hourly rate of $20.00\n"
     ]
    }
   ],
   "source": [
    "def get_hourly_employee_input():\n",
    "    worked_hours = int(input(\"Enter the worked hours of hourly employee:\"))\n",
    "    hours_rate = float(input(\"Enter the hourly rate of worked hours of hourly employee:\"))\n",
    "    return (worked_hours, hours_rate)\n",
    "#print('', get_hourly_employee_input())\n",
    "hours_worked, hourly_rate = get_hourly_employee_input()\n",
    "print(\"This hourly employee works {0} hours per week at an hourly rate of ${1:0.2f}\".format(hours_worked,hourly_rate))"
   ]
  },
  {
   "cell_type": "code",
   "execution_count": 82,
   "metadata": {},
   "outputs": [
    {
     "name": "stdout",
     "output_type": "stream",
     "text": [
      "Enter the worked hours of consultant employee:40\n",
      "project type? (Enter a number between 1 and 3)2\n",
      "This consultant works 40 hours per week for type 2 project.\n"
     ]
    }
   ],
   "source": [
    "def get_consultant_input():\n",
    "    worked_hours = int(input(\"Enter the worked hours of consultant employee:\"))\n",
    "    project_type = int(input(\"project type? (Enter a number between 1 and 3)\"))\n",
    "    return worked_hours, project_type\n",
    "#print('', get_consultant_input())\n",
    "hours_worked, project_type = get_consultant_input()\n",
    "print(\"This consultant works {0} hours per week for type {1} project.\".format(hours_worked,project_type))"
   ]
  },
  {
   "cell_type": "code",
   "execution_count": 83,
   "metadata": {},
   "outputs": [
    {
     "name": "stdout",
     "output_type": "stream",
     "text": [
      "Enter the annual salary of the employee:100000\n",
      "Enter the worked hours of the employee:8\n",
      "Project Type? (Enter a number between 1 and 3):3\n",
      "This management has an annual salary of $100000.00. This management also works 8 hours per week additionally for type 3 project.\n"
     ]
    }
   ],
   "source": [
    "def get_management_input():\n",
    "    annual_salary = float(input(\"Enter the annual salary of the employee:\"))\n",
    "    worked_hours = int(input(\"Enter the worked hours of the employee:\"))\n",
    "    project_type = int(input(\"Project Type? (Enter a number between 1 and 3):\"))\n",
    "    return (annual_salary, worked_hours, project_type)\n",
    "#print('', get_management_input())\n",
    "salary, hours_worked, project_type = get_management_input()\n",
    "print(\"This management has an annual salary of ${0:0.2f}. This management also works {1} hours per week additionally for type {2} project.\".format(salary, hours_worked,project_type))"
   ]
  },
  {
   "cell_type": "code",
   "execution_count": 15,
   "metadata": {},
   "outputs": [
    {
     "name": "stdout",
     "output_type": "stream",
     "text": [
      "There are 9 employees stored in the database.\n",
      "\n",
      "Below is the information of the first employee in the database: Details of this Full-time employee are: \n",
      "Employee Name: Amy; Employee Address: 100 W CampbellRoad, Richardson, Texas, 75080\n",
      "Make: Honda; Model: Civic; Year of Manufacture: 2014;  Mileage: 50000\n",
      "Salary: 40000.00\n",
      "\n",
      "Amy is the first employee.\n"
     ]
    }
   ],
   "source": [
    "#read the empdata.dat file and add the emplist to it\n",
    "#it requires pickle to read this value\n",
    "import pickle\n",
    "def read_emp_file():\n",
    "    with open('empdata.dat', 'rb') as file:\n",
    "        employee_list = []\n",
    "        while(1):\n",
    "            try:\n",
    "                employee_list.append(pickle.load(file)) \n",
    "            except EOFError: \n",
    "                break #break the execution here  \n",
    "    e1 = employees_list\n",
    "    return e1\n",
    "#e1 = read_emp_file()\n",
    "#print(\":{}\".format(e1[0].getftsalary()))\n",
    "#print(len(e1))\n",
    "#print(e1[1])\n",
    "#e1 = employees_list\n",
    "emp_list=read_emp_file()\n",
    "print(\"There are {} employees stored in the database.\".format(len(emp_list)))\n",
    "print(\"\\nBelow is the information of the first employee in the database: {}\".format(emp_list[0]))\n",
    "print(\"\\n{} is the first employee.\".format(emp_list[0].getemployeename()))"
   ]
  },
  {
   "cell_type": "code",
   "execution_count": 84,
   "metadata": {},
   "outputs": [],
   "source": [
    "def run_option1():\n",
    "    while(1): \n",
    "        emp_type = input(\"Type of Employee?(1-Full Time;2-Hourly;3-Consultant;4-Management) :\")\n",
    "        if emp_type.isnumeric():\n",
    "            if int(emp_type)<1 or int(emp_type)>4:\n",
    "                print('Please select an option from 1, 2, 3, and 4.')\n",
    "            #print('Type of Employee?(1-Full Time;2-Hourly;3-Consultant;4-Management) :')\n",
    "            else:\n",
    "                break\n",
    "        else: \n",
    "            print('Please select an option from 1, 2, 3, and 4.')\n",
    "    ename, eaddress = get_employee_input()\n",
    "    vmake, vmodel, vyear, vmil = get_vehicle_input()\n",
    "    vehicle11 = Vehicle(vmake, vmodel, vyear, vmil) #create vehicle class object here\n",
    "    #based on the employee type create the objects accordingly\n",
    "    if int(emp_type) == 1: #need salary here\n",
    "        salary = get_ft_employee_input()\n",
    "        created_emp = FullTimeEmployee(ename,eaddress, vehicle11, salary)\n",
    "    elif int(emp_type) ==2: #need worked hours and rate\n",
    "        worked_hrs, hourly_rate = get_hourly_employee_input()\n",
    "        created_emp = HourlyEmployee(ename, eaddress, vehicle11,worked_hrs, hourly_rate )\n",
    "    elif int(emp_type) ==3:#need worked hours and project type\n",
    "        worked_hrs, project_type = get_consultant_input()\n",
    "        created_emp = Consultant(ename, eaddress, vehicle11,worked_hrs,project_type)\n",
    "    else: \n",
    "        salary, worked_hrs, project_type = get_management_input()\n",
    "        created_emp = Management(ename, eaddress, vehicle11,salary, worked_hrs, project_type)\n",
    "    print(created_emp)\n",
    "           \n",
    "    print(\"\\n============================================================\")        \n",
    "    print(\"New employee entered successfully! Now going to the main menu.\")\n",
    "    print(\"==============================================================\")      \n",
    "    return created_emp  \n",
    "\n",
    "        "
   ]
  },
  {
   "cell_type": "code",
   "execution_count": 85,
   "metadata": {},
   "outputs": [
    {
     "name": "stdout",
     "output_type": "stream",
     "text": [
      "Type of Employee?(1-Full Time;2-Hourly;3-Consultant;4-Management) :5\n",
      "Please select an option from 1, 2, 3, and 4.\n",
      "Type of Employee?(1-Full Time;2-Hourly;3-Consultant;4-Management) :zzz\n",
      "Please select an option from 1, 2, 3, and 4.\n",
      "Type of Employee?(1-Full Time;2-Hourly;3-Consultant;4-Management) :4\n",
      "Enter the employee nameDavid\n",
      "Enter employee address103 E Campbell Road, Richardson, Texas, 75080\n",
      "Enter vehicle make:BMW\n",
      "Enter vehicle model:X3\n",
      "Enter vehicle year of manufacture(yyyy):2018\n",
      "enter vehicle milage value:5000\n",
      "Enter the annual salary of the employee:110000\n",
      "Enter the worked hours of the employee:5\n",
      "Project Type? (Enter a number between 1 and 3):2\n",
      "Details of this Management are: \n",
      "Employee Name: David; Employee Address: 103 E Campbell Road, Richardson, Texas, 75080\n",
      "Make: BMW; Model: X3; Year of Manufacture: 2018;  Mileage: 5000\n",
      "Salary: 110000.00; Hours Worked: 5; Project Type: 2\n",
      "\n",
      "============================================================\n",
      "New employee entered successfully! Now going to the main menu.\n",
      "==============================================================\n"
     ]
    },
    {
     "data": {
      "text/plain": [
       "<__main__.Management at 0x233972382b0>"
      ]
     },
     "execution_count": 85,
     "metadata": {},
     "output_type": "execute_result"
    }
   ],
   "source": [
    "run_option1()"
   ]
  },
  {
   "cell_type": "code",
   "execution_count": 19,
   "metadata": {},
   "outputs": [],
   "source": [
    "def run_option2(employee_list):\n",
    "    while(1):\n",
    "        employee_view_option = input(\"Do you want to see information of all employees (input 1) or the first 5 employees (input 2)?\")\n",
    "        if employee_view_option.isnumeric():\n",
    "            if int(employee_view_option)<1 or int(employee_view_option)>2: \n",
    "                print('Please select 1 or 2')\n",
    "            else: \n",
    "                break\n",
    "        else:\n",
    "            print(\"please select either 1 or 2 options only\")\n",
    "    print(\"\\n============================================================\")        \n",
    "    print(\"Below is the information of the first 5 employees stored in the database.\")\n",
    "    print(\"==============================================================\") \n",
    "    if int(employee_view_option)==1: \n",
    "        for i in range(len(employee_list)):\n",
    "            print(employee_list[i])\n",
    "    else: \n",
    "        print(\"first 5 employees data is shown only\")\n",
    "        for i in range(min(len(employee_list),5)):\n",
    "            print(employee_list[i])\n",
    "     "
   ]
  },
  {
   "cell_type": "code",
   "execution_count": 20,
   "metadata": {},
   "outputs": [
    {
     "name": "stdout",
     "output_type": "stream",
     "text": [
      "Do you want to see information of all employees (input 1) or the first 5 employees (input 2)?2\n",
      "\n",
      "============================================================\n",
      "Below is the information of the first 5 employees stored in the database.\n",
      "==============================================================\n",
      "first 5 employees data is shown only\n",
      "Details of this Full-time employee are: \n",
      "Employee Name: Amy; Employee Address: 100 W CampbellRoad, Richardson, Texas, 75080\n",
      "Make: Honda; Model: Civic; Year of Manufacture: 2014;  Mileage: 50000\n",
      "Salary: 40000.00\n",
      "Details of this Full-time employee are: \n",
      "Employee Name: Bob; Employee Address: 200 W CampbellRoad, Richardson, Texas, 75080\n",
      "Make: Toyota; Model: Camry; Year of Manufacture: 2010;  Mileage: 60000\n",
      "Salary: 80000.00\n",
      "Details of this Full-time employee are: \n",
      "Employee Name: Evan; Employee Address: 300 W CampbellRoad, Richardson, Texas, 75080\n",
      "Make: BMW; Model: X3; Year of Manufacture: 2016;  Mileage: 30000\n",
      "Salary: 120000.00\n",
      "Details of this Hourly employee are: \n",
      "Employee Name: Grace; Employee Address: 400 W CampbellRoad, Richardson, Texas, 75080\n",
      "Make: Kia; Model: Rio; Year of Manufacture: 2005;  Mileage: 150000\n",
      "Hours Worked: 50; Hourly Rate: 20\n",
      "Details of this Hourly employee are: \n",
      "Employee Name: James; Employee Address: 500 W CampbellRoad, Richardson, Texas, 75080\n",
      "Make: Mazda; Model: Mazda3; Year of Manufacture: 2010;  Mileage: 80000\n",
      "Hours Worked: 30; Hourly Rate: 25\n"
     ]
    }
   ],
   "source": [
    "run_option2(employees_list)"
   ]
  },
  {
   "cell_type": "code",
   "execution_count": 21,
   "metadata": {},
   "outputs": [],
   "source": [
    "def run_option3(employee_list):\n",
    "    print(\"\\nEmployee name and Compensation of all Employees\")\n",
    "    print(\"=================================================\")\n",
    "    for i in range(len(employee_list)):\n",
    "        name = employee_list[i].getemployeename()\n",
    "        compensation = employee_list[i].compute_compensation()\n",
    "        print(\"{}'s compensation(weekly) is ${:0.2f}\".format(name, compensation))"
   ]
  },
  {
   "cell_type": "code",
   "execution_count": 22,
   "metadata": {},
   "outputs": [
    {
     "name": "stdout",
     "output_type": "stream",
     "text": [
      "\n",
      "Employee name and Compensation of all Employees\n",
      "=================================================\n",
      "Amy's compensation(weekly) is $630.77\n",
      "Bob's compensation(weekly) is $1194.23\n",
      "Evan's compensation(weekly) is $1711.54\n",
      "Grace's compensation(weekly) is $1160.00\n",
      "James's compensation(weekly) is $750.00\n",
      "Luna's compensation(weekly) is $300.00\n",
      "Michael's compensation(weekly) is $2200.00\n",
      "Tom's compensation(weekly) is $3500.00\n",
      "Zoey's compensation(weekly) is $2550.00\n"
     ]
    }
   ],
   "source": [
    "run_option3(employees_list)"
   ]
  },
  {
   "cell_type": "code",
   "execution_count": 37,
   "metadata": {},
   "outputs": [],
   "source": [
    "def run_option4(employees_list):\n",
    "    found_employees = []\n",
    "    name_to_find = input(\"Enter the employee name to search in the list:\")\n",
    "    name_to_find = name_to_find.upper()\n",
    "    #print(name_to_find)\n",
    "    for i in range(0, len(employees_list)):\n",
    "        #print('>>>',employees_list[i].getemployeename().upper())\n",
    "        if employees_list[i].getemployeename().upper() == name_to_find:\n",
    "            found_employees.append(employees_list[i])\n",
    "    if len(found_employees) ==0: \n",
    "        print(\"no name matched with the given employee list\")\n",
    "        return found_employees\n",
    "    print(\"\\n============================================================\")        \n",
    "    print(\"Below is the information of all employees that match the name you entered in the database.\")\n",
    "    print(\"==============================================================\") \n",
    "    for i in range(0, len(found_employees)):\n",
    "        print(found_employees[i])\n",
    "    return found_employees"
   ]
  },
  {
   "cell_type": "code",
   "execution_count": 38,
   "metadata": {},
   "outputs": [
    {
     "name": "stdout",
     "output_type": "stream",
     "text": [
      "Enter the employee name to search in the list:TOM\n",
      "\n",
      "============================================================\n",
      "Below is the information of all employees that match the name you entered in the database.\n",
      "==============================================================\n",
      "Details of this Consultant employee are: \n",
      "Employee Name: Tom; Employee Address: 800 W CampbellRoad, Richardson, Texas, 75080\n",
      "Make: Mercedes-Benz; Model: GLE350; Year of Manufacture: 2018;  Mileage: 30000\n",
      "Hours Worked: 50; Project Type: 2\n",
      "\n",
      "There are 1 employees matching your search.\n"
     ]
    }
   ],
   "source": [
    "matched_emp_list=run_option4(emp_list)\n",
    "print(\"\\nThere are {} employees matching your search.\".format(len(matched_emp_list)))"
   ]
  },
  {
   "cell_type": "code",
   "execution_count": 45,
   "metadata": {},
   "outputs": [],
   "source": [
    "def run_option5(employee_list):\n",
    "    #get the mean and maximum compensation and reimbursement\n",
    "    len_emp = len(employee_list)\n",
    "    compensation_mean = 0\n",
    "    compensation_max = float('-inf')\n",
    "    compensation_min = float('inf')\n",
    "    mil_count = 0 #count of employees with milage >100k\n",
    "    for i in range(len_emp):\n",
    "        if employee_list[i].compute_compensation()>compensation_max: \n",
    "            compensation_max = employee_list[i].compute_compensation()\n",
    "        compensation_mean +=employee_list[i].compute_compensation()\n",
    "        if employee_list[i].compute_compensation()<compensation_min: \n",
    "            compensation_min = employee_list[i].compute_compensation()\n",
    "        if employee_list[i].getemployeevehicle_mil() >100000:\n",
    "            mil_count +=1\n",
    "    compensation_mean = compensation_mean/len_emp\n",
    "    print(\"\\n============================================================\")        \n",
    "    print(\"Below is the information of statistics in the database.\")\n",
    "    print(\"==============================================================\")\n",
    "    print(\"There are {0} employees stored in this employee database.\".format(len_emp))\n",
    "    print(\"Highest weekly compensation of all employees is: $\", compensation_max)\n",
    "    print(\"Mean weekly compensation of all employees is: $\", round(compensation_mean,2))\n",
    "    print(\"The number of employees who have a vehicle with over 100,000 mileage is {0}.\".format(mil_count))\n",
    "    #return (compensation_max, round(compensation_mean,2), compensation_min)"
   ]
  },
  {
   "cell_type": "code",
   "execution_count": 46,
   "metadata": {},
   "outputs": [
    {
     "name": "stdout",
     "output_type": "stream",
     "text": [
      "\n",
      "============================================================\n",
      "Below is the information of statistics in the database.\n",
      "==============================================================\n",
      "There are 9 employees stored in this employee database.\n",
      "Highest weekly compensation of all employees is: $ 3500\n",
      "Mean weekly compensation of all employees is: $ 1555.17\n",
      "The number of employees who have a vehicle with over 100,000 mileage is 2.\n"
     ]
    }
   ],
   "source": [
    "run_option5(employees_list)"
   ]
  },
  {
   "cell_type": "code",
   "execution_count": 47,
   "metadata": {},
   "outputs": [],
   "source": [
    "def run_option6(employee_list):\n",
    "    name_list = run_option4(employee_list)\n",
    "    print(name_list)\n",
    "    n_len = len(name_list)\n",
    "    option_to_choose=int(input(\"Which employee do you want to check (enter a number)?\"))\n",
    "    #option_to_choose =  int(input(\"enter a number to select for the employee (1 index based): with maximum {}\".format(len(name_list))))\n",
    "    if option_to_choose>n_len:\n",
    "        print(\"out of selection\")\n",
    "    else: \n",
    "        emp_val = name_list[option_to_choose-1]\n",
    "        #print('>>>>',isinstance(emp_val,FullTimeEmployee), isinstance(emp_val,HourlyEmployee), isinstance(emp_val,Consultant), isinstance(emp_val,Management))\n",
    "        #check employee type: \n",
    "        if isinstance(emp_val,FullTimeEmployee): \n",
    "            #print(\"hello\")\n",
    "            expenses = int(input(\"Enter the annual expenses of this employee?\"))\n",
    "            reimbursement = emp_val.compute_reimbursement(expenses)\n",
    "            #print('Weekly reimbursement of this employee is  ${0:0.2f}.'.format(reimbursement))\n",
    "        elif isinstance(emp_val,HourlyEmployee) or isinstance(emp_val,Consultant):\n",
    "            expenses = int(input('Enter the weekly expenses of this employee? '))\n",
    "            reimbursement = emp_val.compute_reimbursement(expenses)\n",
    "            #print('Weekly reimbursement of this employee is  ${0:0.2f}.'.format(reimbursement))\n",
    "        elif isinstance(emp_val,Management): #management\n",
    "            annaul_expenses = int(input(\"annual expense ? \"))\n",
    "            weekly_expenses = int(input(\"weekly expenses of the consulatant employee\"))\n",
    "            reimbursement = emp_val.compute_reimbursement(annaul_expenses, weekly_expenses)\n",
    "            #print('Weekly reimbursement of this employee is  ${0:0.2f}.'.format(reimbursement))\n",
    "        print('\\n\\n############################################################')\n",
    "        print('This employee should have a weekly reimbursement of ${0:0.2f}.'.format(reimbursement))"
   ]
  },
  {
   "cell_type": "code",
   "execution_count": 48,
   "metadata": {},
   "outputs": [
    {
     "name": "stdout",
     "output_type": "stream",
     "text": [
      "Enter the employee name to search in the list:Bob\n",
      "\n",
      "============================================================\n",
      "Below is the information of all employees that match the name you entered in the database.\n",
      "==============================================================\n",
      "Details of this Full-time employee are: \n",
      "Employee Name: Bob; Employee Address: 200 W CampbellRoad, Richardson, Texas, 75080\n",
      "Make: Toyota; Model: Camry; Year of Manufacture: 2010;  Mileage: 60000\n",
      "Salary: 80000.00\n",
      "[<__main__.FullTimeEmployee object at 0x0000023394FDBD30>]\n",
      "Which employee do you want to check (enter a number)?1\n",
      "Enter the annual expenses of this employee?8000\n",
      "\n",
      "\n",
      "############################################################\n",
      "This employee should have a weekly reimbursement of $153.85.\n"
     ]
    },
    {
     "data": {
      "text/plain": [
       "0"
      ]
     },
     "execution_count": 48,
     "metadata": {},
     "output_type": "execute_result"
    }
   ],
   "source": [
    "run_option6(employees_list)"
   ]
  },
  {
   "cell_type": "code",
   "execution_count": 86,
   "metadata": {},
   "outputs": [
    {
     "name": "stdout",
     "output_type": "stream",
     "text": [
      "Enter the employee name to search in the list:james\n",
      "\n",
      "============================================================\n",
      "Below is the information of all employees that match the name you entered in the database.\n",
      "==============================================================\n",
      "Details of this Hourly employee are: \n",
      "Employee Name: James; Employee Address: 500 W CampbellRoad, Richardson, Texas, 75080\n",
      "Make: Mazda; Model: Mazda3; Year of Manufacture: 2010;  Mileage: 80000\n",
      "Hours Worked: 30; Hourly Rate: 25\n",
      "[<__main__.HourlyEmployee object at 0x0000023394FDB7F0>]\n",
      "Which employee do you want to check (enter a number)?1\n",
      "Enter the weekly expenses of this employee? 130\n",
      "\n",
      "\n",
      "############################################################\n",
      "This employee should have a weekly reimbursement of $100.00.\n"
     ]
    },
    {
     "data": {
      "text/plain": [
       "0"
      ]
     },
     "execution_count": 86,
     "metadata": {},
     "output_type": "execute_result"
    }
   ],
   "source": [
    "run_option6(employees_list)"
   ]
  },
  {
   "cell_type": "code",
   "execution_count": 56,
   "metadata": {},
   "outputs": [],
   "source": [
    "import pickle\n",
    "import sys, os\n",
    "def run_option7(employee_list):\n",
    "    print(\"This option is selcteing the exit program\")\n",
    "    option_user =  input('ARE you sure to close this program with exit (Y/N)?')\n",
    "    if option_user ==\"Y\" or option_user == 'y':\n",
    "        with open ('employee_data.dat', 'wb') as write_file:\n",
    "            for i in range(0, len(employee_list)): \n",
    "                pickle.dump(employee_list[i], write_file)\n",
    "        print(\"Wrote all the employee details to the file hence exiting the program\")\n",
    "        print(\"\\n============================================================\")  \n",
    "        print('Program succesfully being closed')\n",
    "        print(\"============================================================\")  \n",
    "        sys.exit()\n",
    "    elif option_user ==\"N\" or option_user == 'n':\n",
    "        print(\"\\n============================================================\")  \n",
    "        print('Going back to selection menu')\n",
    "        print(\"============================================================\")  \n",
    "    else: \n",
    "        print(\"Your input doesn't match any valid option and has been considered as 'N'.\")\n",
    "        print('Going back to selection menu')\n",
    "    #return 0"
   ]
  },
  {
   "cell_type": "code",
   "execution_count": 57,
   "metadata": {},
   "outputs": [
    {
     "name": "stdout",
     "output_type": "stream",
     "text": [
      "This option is selcteing the exit program\n",
      "ARE you sure to close this program with exit (Y/N)?b\n",
      "Your input doesn't match any valid option and has been considered as 'N'.\n",
      "Going back to selection menu\n"
     ]
    }
   ],
   "source": [
    "run_option7(employees_list)"
   ]
  },
  {
   "cell_type": "code",
   "execution_count": 58,
   "metadata": {},
   "outputs": [
    {
     "name": "stdout",
     "output_type": "stream",
     "text": [
      "This option is selcteing the exit program\n",
      "ARE you sure to close this program with exit (Y/N)?N\n",
      "\n",
      "============================================================\n",
      "Going back to selection menu\n",
      "============================================================\n"
     ]
    }
   ],
   "source": [
    "run_option7(employees_list)"
   ]
  },
  {
   "cell_type": "code",
   "execution_count": 59,
   "metadata": {},
   "outputs": [
    {
     "name": "stdout",
     "output_type": "stream",
     "text": [
      "This option is selcteing the exit program\n",
      "ARE you sure to close this program with exit (Y/N)?Y\n",
      "Wrote all the employee details to the file hence exiting the program\n",
      "\n",
      "============================================================\n",
      "Program succesfully being closed\n",
      "============================================================\n"
     ]
    },
    {
     "ename": "SystemExit",
     "evalue": "",
     "output_type": "error",
     "traceback": [
      "An exception has occurred, use %tb to see the full traceback.\n",
      "\u001b[1;31mSystemExit\u001b[0m\n"
     ]
    }
   ],
   "source": [
    "run_option7(employees_list)"
   ]
  },
  {
   "cell_type": "code",
   "execution_count": 66,
   "metadata": {},
   "outputs": [],
   "source": [
    "def run_menu_choices():\n",
    "    #this programs lists the possible menu options\n",
    "    employees_list = read_emp_file()\n",
    "    user_selection = 1\n",
    "    while(1):\n",
    "        #display options\n",
    "        print(\"\\n==== Menu ====\")\n",
    "        print(\"1. To add an employee\")\n",
    "        print(\"2. To print the name and address of employees\")\n",
    "        print(\"3. To print the employee name and compensation of all employees\")\n",
    "        print(\"4. To search for employees by name\")\n",
    "        print(\"5. To check the basic statistics of employees\")\n",
    "        print(\"6. To calculate the reimbursement of one employee\")\n",
    "        print(\"7. To exit program\")\n",
    "        \n",
    "        #take selection input\n",
    "        user_selection=input('Choose the user selection option carefully from 1-7:')\n",
    "        if user_selection.isnumeric():\n",
    "            if(int(user_selection)<1 or int(user_selection)>7):\n",
    "                print(\"You must enter an integer between 1 and 7!\")\n",
    "            else: \n",
    "                user_selection = int(user_selection)\n",
    "                break\n",
    "        else:\n",
    "            print(\"You must enter an integer between 1 and 7!\")\n",
    "            continue\n",
    "\n",
    "        print(\"Your selection is:\",user_selection)\n",
    "    if user_selection==1: \n",
    "        employees_list.append(run_option1()) #add the new employees to the old list\n",
    "    elif user_selection==2: \n",
    "        run_option2(employees_list)\n",
    "    elif user_selection==3: \n",
    "        run_option3(employees_list)\n",
    "    elif user_selection==4:\n",
    "        run_option4(employees_list)\n",
    "    elif user_selection==5: \n",
    "        run_option5(employees_list)\n",
    "    elif user_selection==6: \n",
    "        run_option6(employees_list)\n",
    "    elif user_selection==7: \n",
    "        run_option7(employees_list)\n",
    "    else: \n",
    "        print('You must enter an integer between 1 and 7!')"
   ]
  },
  {
   "cell_type": "code",
   "execution_count": 67,
   "metadata": {},
   "outputs": [
    {
     "name": "stdout",
     "output_type": "stream",
     "text": [
      "\n",
      "==== Menu ====\n",
      "1. To add an employee\n",
      "2. To print the name and address of employees\n",
      "3. To print the employee name and compensation of all employees\n",
      "4. To search for employees by name\n",
      "5. To check the basic statistics of employees\n",
      "6. To calculate the reimbursement of one employee\n",
      "7. To exit program\n",
      "Choose the user selection option carefully from 1-7:0\n",
      "You must enter an integer between 1 and 7!\n",
      "Your selection is: 0\n",
      "\n",
      "==== Menu ====\n",
      "1. To add an employee\n",
      "2. To print the name and address of employees\n",
      "3. To print the employee name and compensation of all employees\n",
      "4. To search for employees by name\n",
      "5. To check the basic statistics of employees\n",
      "6. To calculate the reimbursement of one employee\n",
      "7. To exit program\n",
      "Choose the user selection option carefully from 1-7:8\n",
      "You must enter an integer between 1 and 7!\n",
      "Your selection is: 8\n",
      "\n",
      "==== Menu ====\n",
      "1. To add an employee\n",
      "2. To print the name and address of employees\n",
      "3. To print the employee name and compensation of all employees\n",
      "4. To search for employees by name\n",
      "5. To check the basic statistics of employees\n",
      "6. To calculate the reimbursement of one employee\n",
      "7. To exit program\n",
      "Choose the user selection option carefully from 1-7:zzz\n",
      "You must enter an integer between 1 and 7!\n",
      "\n",
      "==== Menu ====\n",
      "1. To add an employee\n",
      "2. To print the name and address of employees\n",
      "3. To print the employee name and compensation of all employees\n",
      "4. To search for employees by name\n",
      "5. To check the basic statistics of employees\n",
      "6. To calculate the reimbursement of one employee\n",
      "7. To exit program\n",
      "Choose the user selection option carefully from 1-7:7\n",
      "This option is selcteing the exit program\n",
      "ARE you sure to close this program with exit (Y/N)?n\n",
      "\n",
      "============================================================\n",
      "Going back to selection menu\n",
      "============================================================\n"
     ]
    }
   ],
   "source": [
    "#if __name__ == '__main__':\n",
    "run_menu_choices()"
   ]
  },
  {
   "cell_type": "code",
   "execution_count": 68,
   "metadata": {},
   "outputs": [
    {
     "name": "stdout",
     "output_type": "stream",
     "text": [
      "\n",
      "==== Menu ====\n",
      "1. To add an employee\n",
      "2. To print the name and address of employees\n",
      "3. To print the employee name and compensation of all employees\n",
      "4. To search for employees by name\n",
      "5. To check the basic statistics of employees\n",
      "6. To calculate the reimbursement of one employee\n",
      "7. To exit program\n",
      "Choose the user selection option carefully from 1-7:1\n",
      "Type of Employee?(1-Full Time;2-Hourly;3-Consultant;4-Management) :4\n",
      "Enter the employee nameDavid\n",
      "Enter employee address103 E Campbell Road, Richardson, Texas, 75080\n",
      "Enter vehicle make:BMW\n",
      "Enter vehicle model:X3\n",
      "Enter vehicle year of manufacture(yyyy):2018\n",
      "enter vehicle milage value:5000\n",
      "Enter the annual salary of the employee:110000\n",
      "Enter the worked hours of the employee:5\n",
      "Project Type? (Enter a number between 1 and 3):2\n",
      "Details of this Management are: \n",
      "Employee Name: David; Employee Address: 103 E Campbell Road, Richardson, Texas, 75080\n",
      "Make: BMW; Model: X3; Year of Manufacture: 2018;  Mileage: 5000\n",
      "Salary: 110000.00; Hours Worked: 5; Project Type: 2\n",
      "\n",
      "============================================================\n",
      "New employee entered successfully! Now going to the main menu.\n",
      "==============================================================\n"
     ]
    }
   ],
   "source": [
    "run_menu_choices()"
   ]
  },
  {
   "cell_type": "code",
   "execution_count": 70,
   "metadata": {},
   "outputs": [
    {
     "name": "stdout",
     "output_type": "stream",
     "text": [
      "\n",
      "==== Menu ====\n",
      "1. To add an employee\n",
      "2. To print the name and address of employees\n",
      "3. To print the employee name and compensation of all employees\n",
      "4. To search for employees by name\n",
      "5. To check the basic statistics of employees\n",
      "6. To calculate the reimbursement of one employee\n",
      "7. To exit program\n",
      "Choose the user selection option carefully from 1-7:1\n",
      "Type of Employee?(1-Full Time;2-Hourly;3-Consultant;4-Management) :4\n",
      "Enter the employee nameGrace\n",
      "Enter employee address105 E Campbell Road, Richardson, TX, 75080\n",
      "Enter vehicle make:Audi\n",
      "Enter vehicle model:A3\n",
      "Enter vehicle year of manufacture(yyyy):2015\n",
      "enter vehicle milage value:35000\n",
      "Enter the annual salary of the employee:90000\n",
      "Enter the worked hours of the employee:10\n",
      "Project Type? (Enter a number between 1 and 3):3\n",
      "Details of this Management are: \n",
      "Employee Name: Grace; Employee Address: 105 E Campbell Road, Richardson, TX, 75080\n",
      "Make: Audi; Model: A3; Year of Manufacture: 2015;  Mileage: 35000\n",
      "Salary: 90000.00; Hours Worked: 10; Project Type: 3\n",
      "\n",
      "============================================================\n",
      "New employee entered successfully! Now going to the main menu.\n",
      "==============================================================\n"
     ]
    }
   ],
   "source": [
    "run_menu_choices()"
   ]
  },
  {
   "cell_type": "code",
   "execution_count": 71,
   "metadata": {},
   "outputs": [
    {
     "name": "stdout",
     "output_type": "stream",
     "text": [
      "\n",
      "==== Menu ====\n",
      "1. To add an employee\n",
      "2. To print the name and address of employees\n",
      "3. To print the employee name and compensation of all employees\n",
      "4. To search for employees by name\n",
      "5. To check the basic statistics of employees\n",
      "6. To calculate the reimbursement of one employee\n",
      "7. To exit program\n",
      "Choose the user selection option carefully from 1-7:1\n",
      "Type of Employee?(1-Full Time;2-Hourly;3-Consultant;4-Management) :4\n",
      "Enter the employee nameZOEY\n",
      "Enter employee address107 E Campbell Road, Richardson, TX, 75080\n",
      "Enter vehicle make:Porsche\n",
      "Enter vehicle model:Cayenne\n",
      "Enter vehicle year of manufacture(yyyy):2019\n",
      "enter vehicle milage value:3000\n",
      "Enter the annual salary of the employee:150000\n",
      "Enter the worked hours of the employee:8\n",
      "Project Type? (Enter a number between 1 and 3):1\n",
      "Details of this Management are: \n",
      "Employee Name: ZOEY; Employee Address: 107 E Campbell Road, Richardson, TX, 75080\n",
      "Make: Porsche; Model: Cayenne; Year of Manufacture: 2019;  Mileage: 3000\n",
      "Salary: 150000.00; Hours Worked: 8; Project Type: 1\n",
      "\n",
      "============================================================\n",
      "New employee entered successfully! Now going to the main menu.\n",
      "==============================================================\n"
     ]
    }
   ],
   "source": [
    "run_menu_choices()"
   ]
  },
  {
   "cell_type": "code",
   "execution_count": 72,
   "metadata": {},
   "outputs": [
    {
     "name": "stdout",
     "output_type": "stream",
     "text": [
      "\n",
      "==== Menu ====\n",
      "1. To add an employee\n",
      "2. To print the name and address of employees\n",
      "3. To print the employee name and compensation of all employees\n",
      "4. To search for employees by name\n",
      "5. To check the basic statistics of employees\n",
      "6. To calculate the reimbursement of one employee\n",
      "7. To exit program\n",
      "Choose the user selection option carefully from 1-7:2\n",
      "Do you want to see information of all employees (input 1) or the first 5 employees (input 2)?1\n",
      "\n",
      "============================================================\n",
      "Below is the information of the first 5 employees stored in the database.\n",
      "==============================================================\n",
      "Details of this Full-time employee are: \n",
      "Employee Name: Amy; Employee Address: 100 W CampbellRoad, Richardson, Texas, 75080\n",
      "Make: Honda; Model: Civic; Year of Manufacture: 2014;  Mileage: 50000\n",
      "Salary: 40000.00\n",
      "Details of this Full-time employee are: \n",
      "Employee Name: Bob; Employee Address: 200 W CampbellRoad, Richardson, Texas, 75080\n",
      "Make: Toyota; Model: Camry; Year of Manufacture: 2010;  Mileage: 60000\n",
      "Salary: 80000.00\n",
      "Details of this Full-time employee are: \n",
      "Employee Name: Evan; Employee Address: 300 W CampbellRoad, Richardson, Texas, 75080\n",
      "Make: BMW; Model: X3; Year of Manufacture: 2016;  Mileage: 30000\n",
      "Salary: 120000.00\n",
      "Details of this Hourly employee are: \n",
      "Employee Name: Grace; Employee Address: 400 W CampbellRoad, Richardson, Texas, 75080\n",
      "Make: Kia; Model: Rio; Year of Manufacture: 2005;  Mileage: 150000\n",
      "Hours Worked: 50; Hourly Rate: 20\n",
      "Details of this Hourly employee are: \n",
      "Employee Name: James; Employee Address: 500 W CampbellRoad, Richardson, Texas, 75080\n",
      "Make: Mazda; Model: Mazda3; Year of Manufacture: 2010;  Mileage: 80000\n",
      "Hours Worked: 30; Hourly Rate: 25\n",
      "Details of this Hourly employee are: \n",
      "Employee Name: Luna; Employee Address: 600 W CampbellRoad, Richardson, Texas, 75080\n",
      "Make: Nissan; Model: Sentra; Year of Manufacture: 2005;  Mileage: 160000\n",
      "Hours Worked: 20; Hourly Rate: 15\n",
      "Details of this Consultant employee are: \n",
      "Employee Name: Michael; Employee Address: 700 W CampbellRoad, Richardson, Texas, 75080\n",
      "Make: Ford; Model: Ranger; Year of Manufacture: 2011;  Mileage: 80000\n",
      "Hours Worked: 40; Project Type: 1\n",
      "Details of this Consultant employee are: \n",
      "Employee Name: Tom; Employee Address: 800 W CampbellRoad, Richardson, Texas, 75080\n",
      "Make: Mercedes-Benz; Model: GLE350; Year of Manufacture: 2018;  Mileage: 30000\n",
      "Hours Worked: 50; Project Type: 2\n",
      "Details of this Consultant employee are: \n",
      "Employee Name: Zoey; Employee Address: 900 W CampbellRoad, Richardson, Texas, 75080\n",
      "Make: Tesla; Model: Model3; Year of Manufacture: 2018;  Mileage: 15000\n",
      "Hours Worked: 30; Project Type: 3\n",
      "Details of this Management are: \n",
      "Employee Name: David; Employee Address: 103 E Campbell Road, Richardson, Texas, 75080\n",
      "Make: BMW; Model: X3; Year of Manufacture: 2018;  Mileage: 5000\n",
      "Salary: 110000.00; Hours Worked: 5; Project Type: 2\n",
      "Details of this Management are: \n",
      "Employee Name: Grace; Employee Address: 105 E Campbell Road, Richardson, TX, 75080\n",
      "Make: Audi; Model: A3; Year of Manufacture: 2015;  Mileage: 35000\n",
      "Salary: 90000.00; Hours Worked: 10; Project Type: 3\n",
      "Details of this Management are: \n",
      "Employee Name: ZOEY; Employee Address: 107 E Campbell Road, Richardson, TX, 75080\n",
      "Make: Porsche; Model: Cayenne; Year of Manufacture: 2019;  Mileage: 3000\n",
      "Salary: 150000.00; Hours Worked: 8; Project Type: 1\n"
     ]
    }
   ],
   "source": [
    "run_menu_choices()"
   ]
  },
  {
   "cell_type": "code",
   "execution_count": 73,
   "metadata": {},
   "outputs": [
    {
     "name": "stdout",
     "output_type": "stream",
     "text": [
      "\n",
      "==== Menu ====\n",
      "1. To add an employee\n",
      "2. To print the name and address of employees\n",
      "3. To print the employee name and compensation of all employees\n",
      "4. To search for employees by name\n",
      "5. To check the basic statistics of employees\n",
      "6. To calculate the reimbursement of one employee\n",
      "7. To exit program\n",
      "Choose the user selection option carefully from 1-7:3\n",
      "\n",
      "Employee name and Compensation of all Employees\n",
      "=================================================\n",
      "Amy's compensation(weekly) is $630.77\n",
      "Bob's compensation(weekly) is $1194.23\n",
      "Evan's compensation(weekly) is $1711.54\n",
      "Grace's compensation(weekly) is $1160.00\n",
      "James's compensation(weekly) is $750.00\n",
      "Luna's compensation(weekly) is $300.00\n",
      "Michael's compensation(weekly) is $2200.00\n",
      "Tom's compensation(weekly) is $3500.00\n",
      "Zoey's compensation(weekly) is $2550.00\n",
      "David's compensation(weekly) is $1932.69\n",
      "Grace's compensation(weekly) is $2175.00\n",
      "ZOEY's compensation(weekly) is $2538.08\n"
     ]
    }
   ],
   "source": [
    "run_menu_choices()"
   ]
  },
  {
   "cell_type": "code",
   "execution_count": 74,
   "metadata": {},
   "outputs": [
    {
     "name": "stdout",
     "output_type": "stream",
     "text": [
      "\n",
      "==== Menu ====\n",
      "1. To add an employee\n",
      "2. To print the name and address of employees\n",
      "3. To print the employee name and compensation of all employees\n",
      "4. To search for employees by name\n",
      "5. To check the basic statistics of employees\n",
      "6. To calculate the reimbursement of one employee\n",
      "7. To exit program\n",
      "Choose the user selection option carefully from 1-7:Grace\n",
      "You must enter an integer between 1 and 7!\n",
      "\n",
      "==== Menu ====\n",
      "1. To add an employee\n",
      "2. To print the name and address of employees\n",
      "3. To print the employee name and compensation of all employees\n",
      "4. To search for employees by name\n",
      "5. To check the basic statistics of employees\n",
      "6. To calculate the reimbursement of one employee\n",
      "7. To exit program\n",
      "Choose the user selection option carefully from 1-7:4\n",
      "Enter the employee name to search in the list:Grace\n",
      "\n",
      "============================================================\n",
      "Below is the information of all employees that match the name you entered in the database.\n",
      "==============================================================\n",
      "Details of this Hourly employee are: \n",
      "Employee Name: Grace; Employee Address: 400 W CampbellRoad, Richardson, Texas, 75080\n",
      "Make: Kia; Model: Rio; Year of Manufacture: 2005;  Mileage: 150000\n",
      "Hours Worked: 50; Hourly Rate: 20\n",
      "Details of this Management are: \n",
      "Employee Name: Grace; Employee Address: 105 E Campbell Road, Richardson, TX, 75080\n",
      "Make: Audi; Model: A3; Year of Manufacture: 2015;  Mileage: 35000\n",
      "Salary: 90000.00; Hours Worked: 10; Project Type: 3\n"
     ]
    }
   ],
   "source": [
    "run_menu_choices()"
   ]
  },
  {
   "cell_type": "code",
   "execution_count": 75,
   "metadata": {},
   "outputs": [
    {
     "name": "stdout",
     "output_type": "stream",
     "text": [
      "\n",
      "==== Menu ====\n",
      "1. To add an employee\n",
      "2. To print the name and address of employees\n",
      "3. To print the employee name and compensation of all employees\n",
      "4. To search for employees by name\n",
      "5. To check the basic statistics of employees\n",
      "6. To calculate the reimbursement of one employee\n",
      "7. To exit program\n",
      "Choose the user selection option carefully from 1-7:5\n",
      "\n",
      "============================================================\n",
      "Below is the information of statistics in the database.\n",
      "==============================================================\n",
      "There are 12 employees stored in this employee database.\n",
      "Highest weekly compensation of all employees is: $ 3500\n",
      "Mean weekly compensation of all employees is: $ 1720.19\n",
      "The number of employees who have a vehicle with over 100,000 mileage is 2.\n"
     ]
    }
   ],
   "source": [
    "run_menu_choices()"
   ]
  },
  {
   "cell_type": "code",
   "execution_count": 76,
   "metadata": {},
   "outputs": [
    {
     "name": "stdout",
     "output_type": "stream",
     "text": [
      "\n",
      "==== Menu ====\n",
      "1. To add an employee\n",
      "2. To print the name and address of employees\n",
      "3. To print the employee name and compensation of all employees\n",
      "4. To search for employees by name\n",
      "5. To check the basic statistics of employees\n",
      "6. To calculate the reimbursement of one employee\n",
      "7. To exit program\n",
      "Choose the user selection option carefully from 1-7:6\n",
      "Enter the employee name to search in the list:ZOEY\n",
      "\n",
      "============================================================\n",
      "Below is the information of all employees that match the name you entered in the database.\n",
      "==============================================================\n",
      "Details of this Consultant employee are: \n",
      "Employee Name: Zoey; Employee Address: 900 W CampbellRoad, Richardson, Texas, 75080\n",
      "Make: Tesla; Model: Model3; Year of Manufacture: 2018;  Mileage: 15000\n",
      "Hours Worked: 30; Project Type: 3\n",
      "Details of this Management are: \n",
      "Employee Name: ZOEY; Employee Address: 107 E Campbell Road, Richardson, TX, 75080\n",
      "Make: Porsche; Model: Cayenne; Year of Manufacture: 2019;  Mileage: 3000\n",
      "Salary: 150000.00; Hours Worked: 8; Project Type: 1\n",
      "[<__main__.Consultant object at 0x0000023394FDD430>, <__main__.Management object at 0x0000023396F16D90>]\n",
      "Which employee do you want to check (enter a number)?1\n",
      "Enter the weekly expenses of this employee? 120\n",
      "\n",
      "\n",
      "############################################################\n",
      "This employee should have a weekly reimbursement of $96.00.\n"
     ]
    }
   ],
   "source": [
    "run_menu_choices()"
   ]
  },
  {
   "cell_type": "code",
   "execution_count": 77,
   "metadata": {},
   "outputs": [
    {
     "name": "stdout",
     "output_type": "stream",
     "text": [
      "\n",
      "==== Menu ====\n",
      "1. To add an employee\n",
      "2. To print the name and address of employees\n",
      "3. To print the employee name and compensation of all employees\n",
      "4. To search for employees by name\n",
      "5. To check the basic statistics of employees\n",
      "6. To calculate the reimbursement of one employee\n",
      "7. To exit program\n",
      "Choose the user selection option carefully from 1-7:7\n",
      "This option is selcteing the exit program\n",
      "ARE you sure to close this program with exit (Y/N)?Y\n",
      "Wrote all the employee details to the file hence exiting the program\n",
      "\n",
      "============================================================\n",
      "Program succesfully being closed\n",
      "============================================================\n"
     ]
    },
    {
     "ename": "SystemExit",
     "evalue": "",
     "output_type": "error",
     "traceback": [
      "An exception has occurred, use %tb to see the full traceback.\n",
      "\u001b[1;31mSystemExit\u001b[0m\n"
     ]
    }
   ],
   "source": [
    "run_menu_choices()"
   ]
  },
  {
   "cell_type": "code",
   "execution_count": null,
   "metadata": {},
   "outputs": [],
   "source": []
  }
 ],
 "metadata": {
  "kernelspec": {
   "display_name": "Python 3",
   "language": "python",
   "name": "python3"
  },
  "language_info": {
   "codemirror_mode": {
    "name": "ipython",
    "version": 3
   },
   "file_extension": ".py",
   "mimetype": "text/x-python",
   "name": "python",
   "nbconvert_exporter": "python",
   "pygments_lexer": "ipython3",
   "version": "3.8.5"
  }
 },
 "nbformat": 4,
 "nbformat_minor": 2
}
